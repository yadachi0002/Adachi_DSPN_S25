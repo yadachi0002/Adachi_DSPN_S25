{
  "cells": [
    {
      "cell_type": "markdown",
      "metadata": {
        "id": "view-in-github",
        "colab_type": "text"
      },
      "source": [
        "<a href=\"https://colab.research.google.com/github/yadachi0002/Adachi_DSPN_S25/blob/master/Homework1_HelloWorld.ipynb\" target=\"_parent\"><img src=\"https://colab.research.google.com/assets/colab-badge.svg\" alt=\"Open In Colab\"/></a>"
      ]
    },
    {
      "cell_type": "markdown",
      "metadata": {
        "id": "7vPK6QNQmBJx"
      },
      "source": [
        "# Exercise 1: Github & Jupyter"
      ]
    },
    {
      "cell_type": "markdown",
      "metadata": {
        "id": "awY8UZ_NmBJ7"
      },
      "source": [
        "You first assignemnt is designed to get you setup and started with GitHub and Jupyter notebooks as discussed in your first recitation.\n",
        "\n",
        "For help with this assignment, see the Wiki on the [class Github repository](https://github.com/CoAxLab/DataSciencePsychNeuro_CMU85732/wiki), the tutorials for lectures 1 and 2, and the video titled \"00 - Accessing and submitting materials with GitHub\" on Canvas.\n",
        "\n",
        "    \n",
        "**Note:** This repository will be where you post your homeworks and other assignments throughout the semester."
      ]
    },
    {
      "cell_type": "markdown",
      "metadata": {
        "id": "-lSS1580mBJ8"
      },
      "source": [
        "---\n",
        "&nbsp; 1. Setup a GitHub account and create a new repository with the following name:\n",
        "\n",
        "   * <your\\_last\\_name>\\_DSPN\\_S25\n",
        "   * Add the users *coaxlab0* (that’s a zero at the end) and the TA (*LarryRJ07*) as collaborators.\n"
      ]
    },
    {
      "cell_type": "markdown",
      "metadata": {
        "id": "3Q6Kbu3pmBJ-"
      },
      "source": [
        "&nbsp; 2. Clone the class repository locally on your computer"
      ]
    },
    {
      "cell_type": "markdown",
      "metadata": {
        "id": "kD51RpimmBJ_"
      },
      "source": [
        "&nbsp; 3. Open this notebook in Collaboratory (use the rocket button above)\n"
      ]
    },
    {
      "cell_type": "markdown",
      "metadata": {
        "id": "BLQKBFQimBKB"
      },
      "source": [
        "&nbsp; 4. Save the notebook either to your local computer or Google Drive, titled Homework1_HelloWorld.ipynb"
      ]
    },
    {
      "cell_type": "markdown",
      "metadata": {
        "id": "cHMBGpIHxK7u"
      },
      "source": [
        "&nbsp; 5. Type \"#Hello world!\" in the code cell below (note that the \"#\" is for a comment)"
      ]
    },
    {
      "cell_type": "code",
      "execution_count": null,
      "metadata": {
        "vscode": {
          "languageId": "plaintext"
        },
        "id": "hApkmKyIxK7u"
      },
      "outputs": [],
      "source": [
        "#Hello world!\n"
      ]
    },
    {
      "cell_type": "markdown",
      "metadata": {
        "id": "OyzB8KeIxK7v"
      },
      "source": [
        "&nbsp; 6. Save the notebook."
      ]
    },
    {
      "cell_type": "markdown",
      "metadata": {
        "id": "Bv8bBSOTmBKE"
      },
      "source": [
        "&nbsp; 7. Push your Jupyter notebook to the repository that you made on Github."
      ]
    },
    {
      "cell_type": "markdown",
      "metadata": {
        "id": "bklyTlz6mBKG"
      },
      "source": [
        "&nbsp; 8. Email the TA and instructor a link to the notebook via Canvas. This is how we will turn in all homeworks this semester."
      ]
    },
    {
      "cell_type": "markdown",
      "metadata": {
        "id": "0MjkGt0xmBKH"
      },
      "source": [
        "**Due:** 5pm EST, Jan 22, 2025."
      ]
    }
  ],
  "metadata": {
    "colab": {
      "provenance": [],
      "include_colab_link": true
    },
    "kernelspec": {
      "display_name": "R",
      "language": "R",
      "name": "ir"
    },
    "language_info": {
      "codemirror_mode": "r",
      "file_extension": ".r",
      "mimetype": "text/x-r-source",
      "name": "R",
      "pygments_lexer": "r",
      "version": "4.4.1"
    }
  },
  "nbformat": 4,
  "nbformat_minor": 0
}