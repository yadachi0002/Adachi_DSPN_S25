{
  "cells": [
    {
      "cell_type": "markdown",
      "metadata": {
        "id": "view-in-github",
        "colab_type": "text"
      },
      "source": [
        "<a href=\"https://colab.research.google.com/github/yadachi0002/Adachi_DSPN_S25/blob/master/ExerciseSubmissions/ex2_models_as_testable_hypotheses.ipynb\" target=\"_parent\"><img src=\"https://colab.research.google.com/assets/colab-badge.svg\" alt=\"Open In Colab\"/></a>"
      ]
    },
    {
      "cell_type": "markdown",
      "metadata": {
        "id": "6yZcKTnHlqtA"
      },
      "source": [
        "# Exercise 2: Coding Habits & Functions"
      ]
    },
    {
      "cell_type": "markdown",
      "source": [
        "1. Summary statistics 4/4\n",
        "2. T-test function 4/4\n",
        "3. Setting default values 2/2"
      ],
      "metadata": {
        "id": "la2bvOcBY6UA"
      }
    },
    {
      "cell_type": "markdown",
      "metadata": {
        "id": "OY2teNfAlqtC"
      },
      "source": [
        "This assignment will give you some practice writing your own functions and using the coding best practices discussed in the tutorial.\n",
        "\n",
        "---"
      ]
    },
    {
      "cell_type": "markdown",
      "metadata": {
        "id": "lgiBV3VhlqtD"
      },
      "source": [
        "## 1. Summary statistics (4 pts)\n",
        "\n",
        "Write a function that takes a vector of numbers `x` and returns the length, mean, and standard deviation of `x` as a new vector.\n",
        "\n",
        "In keeping with our best practices, give the function a short but descriptive name, and use snake case if it involves multiple words.\n",
        "\n",
        "Hint: Vectors are defined in R using the `c()` command."
      ]
    },
    {
      "cell_type": "code",
      "execution_count": 1,
      "metadata": {
        "id": "s19wctGHlqtD"
      },
      "outputs": [],
      "source": [
        "#Write your function here\n",
        "\n",
        "x <- c(1,3,5,7)\n",
        "sum_stat <- function(x){\n",
        "  output <- c(length(x), mean(x), sd(x))\n",
        "  return(output)}\n"
      ]
    },
    {
      "cell_type": "markdown",
      "metadata": {
        "id": "EGk5Ga87lqtF"
      },
      "source": [
        "Calculate the summary statistics of vector `v1`."
      ]
    },
    {
      "cell_type": "code",
      "execution_count": 2,
      "metadata": {
        "scrolled": false,
        "id": "3YhBECXRlqtF",
        "colab": {
          "base_uri": "https://localhost:8080/",
          "height": 34
        },
        "outputId": "b5797b91-4f4a-4274-ad7f-8a912340f575"
      },
      "outputs": [
        {
          "output_type": "display_data",
          "data": {
            "text/html": [
              "<style>\n",
              ".list-inline {list-style: none; margin:0; padding: 0}\n",
              ".list-inline>li {display: inline-block}\n",
              ".list-inline>li:not(:last-child)::after {content: \"\\00b7\"; padding: 0 .5ex}\n",
              "</style>\n",
              "<ol class=list-inline><li>4</li><li>7.75</li><li>2.75378527364305</li></ol>\n"
            ],
            "text/markdown": "1. 4\n2. 7.75\n3. 2.75378527364305\n\n\n",
            "text/latex": "\\begin{enumerate*}\n\\item 4\n\\item 7.75\n\\item 2.75378527364305\n\\end{enumerate*}\n",
            "text/plain": [
              "[1] 4.000000 7.750000 2.753785"
            ]
          },
          "metadata": {}
        }
      ],
      "source": [
        "v1  <- c(5, 11, 6, NA, 9)\n",
        "\n",
        "#your_function_name(v1)\n",
        "v1_mod <- na.omit(v1)\n",
        "sum_stat(v1_mod)\n"
      ]
    },
    {
      "cell_type": "markdown",
      "metadata": {
        "id": "nFBMEBRplqtF"
      },
      "source": [
        "---\n",
        "## 2. T-test function (4 pts)\n",
        "\n",
        "The formula for a t-test is:"
      ]
    },
    {
      "cell_type": "markdown",
      "metadata": {
        "id": "xXWGqt8blqtF"
      },
      "source": [
        "$$ \\frac{m- \\mu}{ \\frac{s}{\\sqrt{n}}} $$"
      ]
    },
    {
      "cell_type": "markdown",
      "metadata": {
        "id": "EJpznjS5lqtG"
      },
      "source": [
        "Where m is the sample mean, $\\mu$ (mu) is the population mean, s is the standard deviation, and n is the sample size.\n",
        "\n",
        "Using your function above as a starting point, write a new function `ttest_fun` that compares a vector `x` to a given population mean `mu` and calculates the t-statistic. Keep the coding best practices in mind.\n",
        "\n",
        "Hint: You will need to add another argument for mu."
      ]
    },
    {
      "cell_type": "code",
      "execution_count": 3,
      "metadata": {
        "id": "gq_skDNvlqtG"
      },
      "outputs": [],
      "source": [
        "# Write ttest_fun here\n",
        "\n",
        "ttest_fun <- function(input_1, input_2){\n",
        "  output <- (mean(input_1)-mean(input_2)) / (sd(input_1)/sqrt(length(input_1)))\n",
        "  return(output)\n",
        "  }\n"
      ]
    },
    {
      "cell_type": "markdown",
      "metadata": {
        "id": "Mmjz8HoIlqtG"
      },
      "source": [
        "Use your function to compare the mean of v1 to 10."
      ]
    },
    {
      "cell_type": "code",
      "execution_count": 4,
      "metadata": {
        "id": "0GphDq7alqtG",
        "colab": {
          "base_uri": "https://localhost:8080/",
          "height": 34
        },
        "outputId": "8b0b8332-cc28-43d8-9fe8-6e7a727948c0"
      },
      "outputs": [
        {
          "output_type": "display_data",
          "data": {
            "text/html": [
              "-1.63411433820577"
            ],
            "text/markdown": "-1.63411433820577",
            "text/latex": "-1.63411433820577",
            "text/plain": [
              "[1] -1.634114"
            ]
          },
          "metadata": {}
        }
      ],
      "source": [
        "ttest_fun(v1_mod, 10)\n"
      ]
    },
    {
      "cell_type": "markdown",
      "metadata": {
        "id": "mI3tAabmlqtG"
      },
      "source": [
        "---\n",
        "## 3. Setting default values (2 pts)\n",
        "\n",
        "Set the default value of mu to 0. Test your modified function below by supplying only `v2` as an argument."
      ]
    },
    {
      "cell_type": "code",
      "execution_count": 5,
      "metadata": {
        "id": "AgwXfSxWlqtH"
      },
      "outputs": [],
      "source": [
        "# Write your modified ttest_fun here\n",
        "\n",
        "ttest_fun <- function(input_1, input_2=0){\n",
        "  output <- (mean(input_1)-mean(input_2)) / (sd(input_1)/sqrt(length(input_1)))\n",
        "  return(output)\n",
        "  }\n"
      ]
    },
    {
      "cell_type": "code",
      "execution_count": 6,
      "metadata": {
        "id": "na-b48HClqtH",
        "colab": {
          "base_uri": "https://localhost:8080/",
          "height": 34
        },
        "outputId": "168c3c61-e6af-483e-92b0-4dca9da0b259"
      },
      "outputs": [
        {
          "output_type": "display_data",
          "data": {
            "text/html": [
              "3.20594367796912"
            ],
            "text/markdown": "3.20594367796912",
            "text/latex": "3.20594367796912",
            "text/plain": [
              "[1] 3.205944"
            ]
          },
          "metadata": {}
        }
      ],
      "source": [
        "v2 <- c(3, 7, 1, NA, 8, 12)\n",
        "v2_mod <- na.omit(v2)\n",
        "ttest_fun(v2_mod)"
      ]
    },
    {
      "cell_type": "markdown",
      "metadata": {
        "id": "_gSCqClHlqtH"
      },
      "source": [
        "How does your result compare to R's built-in `t.test()` function?"
      ]
    },
    {
      "cell_type": "code",
      "execution_count": 7,
      "metadata": {
        "scrolled": true,
        "id": "xlTk3WLtlqtH",
        "colab": {
          "base_uri": "https://localhost:8080/",
          "height": 213
        },
        "outputId": "4e174ccd-31b9-4029-8caf-24c61839ad97"
      },
      "outputs": [
        {
          "output_type": "display_data",
          "data": {
            "text/plain": [
              "\n",
              "\tOne Sample t-test\n",
              "\n",
              "data:  v2_mod\n",
              "t = 3.2059, df = 4, p-value = 0.03272\n",
              "alternative hypothesis: true mean is not equal to 0\n",
              "95 percent confidence interval:\n",
              "  0.8306107 11.5693893\n",
              "sample estimates:\n",
              "mean of x \n",
              "      6.2 \n"
            ]
          },
          "metadata": {}
        }
      ],
      "source": [
        "t.test(v2_mod)"
      ]
    },
    {
      "cell_type": "markdown",
      "metadata": {
        "id": "2slWzsoYGuLt"
      },
      "source": [
        "When you are finished, save the notebook as Exercise2.ipynb, push it to your class GitHub repository (the one you made for Exercise 1) and send the instructors a link to your notebook via Canvas. You can send messages via Canvas by clicking \"Inbox\" on the left and then pressing the icon with a pencil inside a square."
      ]
    },
    {
      "cell_type": "markdown",
      "metadata": {
        "id": "C4MPECMmZXqe"
      },
      "source": [
        "**DUE:** 5pm EST, Feb 6, 2023"
      ]
    },
    {
      "cell_type": "markdown",
      "metadata": {
        "id": "r9GUofXN4BVy"
      },
      "source": [
        "**IMPORTANT** Did you collaborate with anyone on this assignment? If so, list their names here.\n",
        "> *Someone's Name*"
      ]
    }
  ],
  "metadata": {
    "kernelspec": {
      "display_name": "R",
      "language": "R",
      "name": "ir"
    },
    "language_info": {
      "codemirror_mode": "r",
      "file_extension": ".r",
      "mimetype": "text/x-r-source",
      "name": "R",
      "pygments_lexer": "r",
      "version": "4.2.0"
    },
    "colab": {
      "provenance": [],
      "include_colab_link": true
    }
  },
  "nbformat": 4,
  "nbformat_minor": 0
}