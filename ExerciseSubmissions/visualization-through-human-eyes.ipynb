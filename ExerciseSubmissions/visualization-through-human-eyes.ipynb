{
 "cells": [
  {
   "cell_type": "markdown",
   "metadata": {
    "id": "-2W919d2ZXp7"
   },
   "source": [
    "# Exercise 6: More plotting options\n",
    "\n",
    "In this homework, you'll practice more advanced plotting options from `ggplot`.\n",
    "\n",
    "Just like the prior homework, we will be using the [gapminder](https://cran.r-project.org/web/packages/gapminder/index.html) dataset. It contains  information about population, life expectancy and per capita GDP by country over time."
   ]
  },
  {
   "cell_type": "markdown",
   "metadata": {
    "id": "O-OQhPpUSHHX"
   },
   "source": [
    "---\n",
    "# 1. Multipanel figures (7 points)"
   ]
  },
  {
   "cell_type": "markdown",
   "metadata": {
    "id": "fpCVaRyKSHHX"
   },
   "source": [
    "Last week, we visualized the change in life expectancy over time for every country in one plot. An alternative method is to use facet panels to split each country into its own plot.\n",
    "\n",
    "To start, load the `gapminder` dataset from the last set of exercises, as well as the `tidyverse`."
   ]
  },
  {
   "cell_type": "code",
   "execution_count": null,
   "metadata": {
    "vscode": {
     "languageId": "r"
    }
   },
   "outputs": [],
   "source": [
    "# INSERT CODE HERE\n"
   ]
  },
  {
   "cell_type": "markdown",
   "metadata": {},
   "source": [
    "Next, create a subset of data that only includes the 25 countries from the `Americas` continent. Now we can add a `facet_wrap` layer to our line plot to create the panels by country. Additionally, to make the x-axis values easier to read, add a `theme` layer to rotate the text by 45 degrees."
   ]
  },
  {
   "cell_type": "code",
   "execution_count": null,
   "metadata": {
    "id": "YlALzLuySHHY",
    "outputId": "3b55dd94-5c42-4697-9e2c-febd20e0b26a",
    "vscode": {
     "languageId": "r"
    }
   },
   "outputs": [],
   "source": [
    "# INSERT CODE HERE\n"
   ]
  },
  {
   "cell_type": "markdown",
   "metadata": {
    "id": "DOCE5rnpSHHY"
   },
   "source": [
    "Imagine that we wanted to publish this figure in a manuscript. Make the following changes to the code from the previous question to create a cleaner figure:\n",
    "\n",
    "* Change the y-axis label (using `labs` layer)\n",
    "* Add a figure title (using `labs` layer)\n",
    "* Add a legend (using `labs` layer)\n",
    "* Rotate x-axis value text to 90 degrees\n",
    "\n",
    "*Hint: legend titles are set using the same names used in the aes specification. So, we need to add a `color` aes mapping to the global plot definition and reference this in the `labs` layer to specify the legend name.*"
   ]
  },
  {
   "cell_type": "code",
   "execution_count": null,
   "metadata": {
    "id": "_GuVP0lsSHHZ",
    "outputId": "c4e79a9b-dafd-436f-92c6-aba68c389094",
    "vscode": {
     "languageId": "r"
    }
   },
   "outputs": [],
   "source": [
    "# INSERT CODE HERE\n",
    "\n"
   ]
  },
  {
   "cell_type": "markdown",
   "metadata": {
    "id": "c6AkhWyKSHHZ"
   },
   "source": [
    "Now let's look at how life expectancy varies by continent over time. Create a multipanel figure where each panel contains five boxplots (one for each continent) and each panel represents one year of data. Include a legend instead of x-axis title and labels.\n",
    "\n",
    "*Hint: the `theme` layer allows you to set attributes as `element_blank()`.*"
   ]
  },
  {
   "cell_type": "code",
   "execution_count": null,
   "metadata": {
    "id": "RpQM0nj-SHHZ",
    "outputId": "abdd8f49-4545-40e1-f9cb-ccbdea0d1836",
    "vscode": {
     "languageId": "r"
    }
   },
   "outputs": [],
   "source": [
    "# INSERT CODE HERE\n",
    "\n"
   ]
  },
  {
   "cell_type": "markdown",
   "metadata": {},
   "source": [
    "---\n",
    "# 2. Increasing data density (3 pts)\n",
    "\n",
    "The above plots have nice readability, but they probably use more ink than is necessary. Take your boxplots from the last question and edit them to improve the data-to-ink ratio.\n",
    "\n",
    "Hint: Double check your axis labels!"
   ]
  },
  {
   "cell_type": "code",
   "execution_count": null,
   "metadata": {
    "vscode": {
     "languageId": "r"
    }
   },
   "outputs": [],
   "source": [
    "# INSERT CODE HERE\n",
    "\n"
   ]
  },
  {
   "cell_type": "markdown",
   "metadata": {
    "id": "C4MPECMmZXqe"
   },
   "source": [
    "**DUE:** 5pm EST, Feb 17, 2025"
   ]
  },
  {
   "cell_type": "markdown",
   "metadata": {
    "id": "r9GUofXN4BVy"
   },
   "source": [
    "**IMPORTANT** Did you collaborate with anyone on this assignment? If so, list their names here. \n",
    "> *Someone's Name*"
   ]
  }
 ],
 "metadata": {
  "colab": {
   "provenance": []
  },
  "kernelspec": {
   "display_name": "Python 3 (ipykernel)",
   "language": "python",
   "name": "python3"
  },
  "language_info": {
   "codemirror_mode": {
    "name": "ipython",
    "version": 3
   },
   "file_extension": ".py",
   "mimetype": "text/x-python",
   "name": "python",
   "nbconvert_exporter": "python",
   "pygments_lexer": "ipython3",
   "version": "3.12.7"
  }
 },
 "nbformat": 4,
 "nbformat_minor": 4
}
