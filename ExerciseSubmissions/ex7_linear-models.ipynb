{
  "cells": [
    {
      "cell_type": "markdown",
      "metadata": {
        "id": "view-in-github",
        "colab_type": "text"
      },
      "source": [
        "<a href=\"https://colab.research.google.com/github/yadachi0002/Adachi_DSPN_S25/blob/master/ExerciseSubmissions/ex7_linear-models.ipynb\" target=\"_parent\"><img src=\"https://colab.research.google.com/assets/colab-badge.svg\" alt=\"Open In Colab\"/></a>"
      ]
    },
    {
      "cell_type": "markdown",
      "metadata": {
        "id": "5sUQy82wJN5i"
      },
      "source": [
        "# Exercise 7:  Linear models\n",
        "\n",
        "This homework assignment is designed to give you practice with linear models and the bias-variance tradeoff.\n",
        "\n",
        "You will need to download the **unrestricted_trimmed_1_7_2020_10_50_44.csv** file from the *Homework/hcp_data* folder in the class GitHub repository.\n",
        "\n",
        "\n",
        "This data is a portion of the [Human Connectome Project database](http://www.humanconnectomeproject.org/). It provides measures of cognitive tasks and brain morphology measuresments from 1206 participants. The full description of each variable is provided in the **HCP_S1200_DataDictionary_April_20_2018.csv** file in the *Homework datasets/hcp_data* folder in the class GitHub repository."
      ]
    },
    {
      "cell_type": "markdown",
      "metadata": {
        "id": "vzH_Qf0SJN5_"
      },
      "source": [
        "---\n",
        "## 1. Loading the Data (1 point)\n",
        "\n",
        "Use the `setwd` and `read.csv` functions to load data from the **unrestricted_trimmed_1_7_2020_10_50_44.csv** file.\n",
        "\n",
        "Using the tidyverse tools, make a new dataframe `d1` that only inclues the subject ID (`Subject`), gender (`Gender`), Flanker Task performance (`Flanker_Unadj`), total white matter volume (`FS_Tot_WM_Vol`), and total grey matter volume (`FS_Total_GM_Vol`) variables and remove all _na_ values.\n",
        "\n",
        "Use the `head` function to look at the first few rows of each data frame."
      ]
    },
    {
      "cell_type": "code",
      "execution_count": null,
      "metadata": {
        "id": "g7paDirkJN5_",
        "vscode": {
          "languageId": "r"
        }
      },
      "outputs": [],
      "source": [
        "data <- read.csv(\"~/Dropbox/Data Science S25/unrestricted_trimmed_1_7_2020_10_50_44.csv\")\n",
        "library(tidyverse)\n",
        "d1 <- select(data, c(\"Subject\", \"Gender\", \"Flanker_Unadj\", \"FS_Tot_WM_Vol\", \"FS_Total_GM_Vol\"))\n",
        "d1 <- na.omit(d1)\n",
        "head(d1)"
      ]
    },
    {
      "cell_type": "markdown",
      "metadata": {
        "id": "5CFn7tyNJN6H"
      },
      "source": [
        "---\n",
        "## 2. Initial data visualization (2 point)\n",
        "\n",
        "Use the `pairs` function to look at all the pairwise scatterplots of the variables in `d1`. Describe which variables seem positively correlated, negatively correlated, or not correlated at all."
      ]
    },
    {
      "cell_type": "code",
      "execution_count": null,
      "metadata": {
        "id": "y09NsOxMJN6N",
        "vscode": {
          "languageId": "r"
        }
      },
      "outputs": [],
      "source": [
        "#INSERT CODE HERE\n",
        "install.packages(\"GGally\")\n",
        "library(GGally)\n",
        "ggpairs(d1 %>% select(c(2:5)))+\n",
        "  theme_bw()\n"
      ]
    },
    {
      "cell_type": "markdown",
      "metadata": {
        "id": "yaL4VQPNJN6N"
      },
      "source": [
        "> *Write your response here.*\n",
        "> The scatter plot and correlation coefficient both show that FS_Tot_WM_Vol and FS_Total_GM_Vol are positively correlated. Based on the scatter plots, Flanker_Unadj does not appear to be correlated with FS_Tot_WM_Vol or FS_Total_GM_Vol. The correlation coefficients also show a negligible correlation (although I don't know what the criteria for correlation coefficients are in this field). None of them appear to be negatively correlated."
      ]
    },
    {
      "cell_type": "markdown",
      "metadata": {
        "id": "LWntuBusJN6N"
      },
      "source": [
        "---\n",
        "## 3. Linear regression (4 points)\n",
        "\n",
        "Use the `lm` (linear model) function to determine the association between Flanker Task performance and total grey matter volume from the `d1` data frame.\n",
        "\n",
        "$$\n",
        "Y_{flanker} = \\beta_0 + \\beta_1 X_{GM volume}\n",
        "$$\n",
        "\n",
        "Show the results using the `summary` function, and report the mean coefficient values for $beta_0$ \\& $\\beta_1$ (`coef` function) and their 95\\% confidence intervals (`confint` function). Is grey matter volume significantly associated with Flanker Task performance?"
      ]
    },
    {
      "cell_type": "code",
      "execution_count": null,
      "metadata": {
        "id": "vCvlheFFJN6T",
        "vscode": {
          "languageId": "r"
        }
      },
      "outputs": [],
      "source": [
        "#INSERT CODE HERE\n",
        "m1 <- lm(Flanker_Unadj ~ FS_Total_GM_Vol, data=d1)\n",
        "summary(m1)\n",
        "coef(m1)\n",
        "confint(m1)"
      ]
    },
    {
      "cell_type": "markdown",
      "metadata": {
        "id": "OhGk99UYJN6T"
      },
      "source": [
        "> *Write your response here.*\n",
        ">  The coefficient and p-value suggest that grey matter is associated with Flanker Task performance. However, the multiple and adjusted R-squared values are minimal, indicating the model only accounts for 4% of the variance in the data.  Therefore, I would not say that grey matter is \"significantly\" associated with Flanker Task performance."
      ]
    },
    {
      "cell_type": "markdown",
      "metadata": {
        "id": "0rSD6W1IJN6U"
      },
      "source": [
        "---\n",
        "## 4. Plotting (2 points)\n",
        "\n",
        "Use `ggplot` to plot the `FS_Total_GM_Vol` variable (x axis) against the `Flanker_Unadj` variable (y axis), as well as the regression line with confidence intervals on the regrssion line. Qualitatively describe what you see."
      ]
    },
    {
      "cell_type": "code",
      "execution_count": null,
      "metadata": {
        "id": "csNNtVa-JN6U",
        "vscode": {
          "languageId": "r"
        }
      },
      "outputs": [],
      "source": [
        "#INSERT CODE HERE\n",
        "ggplot(d1, aes(FS_Total_GM_Vol, Flanker_Unadj))+\n",
        "  geom_point()+\n",
        "  geom_smooth(method='lm')+\n",
        "  theme_light()"
      ]
    },
    {
      "cell_type": "markdown",
      "metadata": {
        "id": "0XStcUtnJN6U"
      },
      "source": [
        "> *Write your response here.*\n",
        "> The slope appears quite small and data points are scattered widely across the plot, not concentrated around the line. The data points seem to be concentrated in the middle of the plot and confidence intervals show that there is higher confidence in the estimate towards the middle of the regression line due to that. Since there are less data points in the peripheral regions, there is less certainty in the estimate in those areas. Probably because humans tend to have a certain volume of grey matter and it is less common to have much less or much more than that average volume.  "
      ]
    },
    {
      "cell_type": "markdown",
      "metadata": {
        "id": "jdNxIM6lJN6V"
      },
      "source": [
        "---\n",
        "\n",
        "## 5. Reflection (1 point)\n",
        "\n",
        "What do you conclude based on the analyses above?"
      ]
    },
    {
      "cell_type": "markdown",
      "metadata": {
        "id": "AqRpqLKAJN6V"
      },
      "source": [
        "\n",
        "> *Write your response here.*\n",
        "> The visualization of the data as well as the summary of the regression model suggest that grey matter only minimally predicts Flanker Task performance, since the model only accounts for 4% of the variance in the data. In other words, grey matter is a very weak predictor of Flanker Task performance.   "
      ]
    },
    {
      "cell_type": "markdown",
      "metadata": {
        "id": "3EgzqKyDJN6V"
      },
      "source": [
        "**DUE:** 5pm EST, February 24, 2025"
      ]
    },
    {
      "cell_type": "markdown",
      "metadata": {
        "id": "FJfHZOv2JN6V"
      },
      "source": [
        "**IMPORTANT** Did you collaborate with anyone on this assignment? If so, list their names here.\n",
        "> *Someone's Name*"
      ]
    }
  ],
  "metadata": {
    "colab": {
      "provenance": [],
      "include_colab_link": true
    },
    "kernelspec": {
      "display_name": "Python 3 (ipykernel)",
      "language": "python",
      "name": "python3"
    },
    "language_info": {
      "codemirror_mode": {
        "name": "ipython",
        "version": 3
      },
      "file_extension": ".py",
      "mimetype": "text/x-python",
      "name": "python",
      "nbconvert_exporter": "python",
      "pygments_lexer": "ipython3",
      "version": "3.12.7"
    }
  },
  "nbformat": 4,
  "nbformat_minor": 0
}